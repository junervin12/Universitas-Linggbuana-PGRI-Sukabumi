{
  "nbformat": 4,
  "nbformat_minor": 0,
  "metadata": {
    "colab": {
      "provenance": [],
      "include_colab_link": true
    },
    "kernelspec": {
      "name": "python3",
      "display_name": "Python 3"
    },
    "language_info": {
      "name": "python"
    }
  },
  "cells": [
    {
      "cell_type": "markdown",
      "metadata": {
        "id": "view-in-github",
        "colab_type": "text"
      },
      "source": [
        "<a href=\"https://colab.research.google.com/github/junervin12/Universitas-Linggbuana-PGRI-Sukabumi/blob/main/Ujian_Akhir_Praktikum_(UAP1).ipynb\" target=\"_parent\"><img src=\"https://colab.research.google.com/assets/colab-badge.svg\" alt=\"Open In Colab\"/></a>"
      ]
    },
    {
      "cell_type": "markdown",
      "source": [
        "**Soal No. 1**"
      ],
      "metadata": {
        "id": "_lAdeKZfIynM"
      }
    },
    {
      "cell_type": "code",
      "execution_count": null,
      "metadata": {
        "id": "DYy3ryxQG8os"
      },
      "outputs": [],
      "source": [
        "\"\"\"\n",
        "TODO:\n",
        "- Buatlah sebuah variabel bernama Halo.\n",
        "- Assign teks \"Halo Dunia!\" pada variabel tersebut.\n",
        "\"\"\"\n",
        "\n",
        "# TODO: Silakan buat kode Anda di bawah ini.\n"
      ]
    },
    {
      "cell_type": "markdown",
      "source": [
        "**Soal No. 2**"
      ],
      "metadata": {
        "id": "5lvHXRBtI5SN"
      }
    },
    {
      "cell_type": "code",
      "source": [
        "\"\"\"\n",
        "TODO:\n",
        "Buatlah variabel namaDepan, namaBelakang, umur, sudahMenikah dengan ketentuan:\n",
        "- namaDepan: isi dengan nama depan Anda bertipe data string.\n",
        "- namaBelakang: isi dengan nama belakang Anda bertipe data string.\n",
        "- umur: isi dengan umur Anda bertipe data integer.\n",
        "- sudahMenikah: isi dengan status pernikahan Anda bertipe data boolean.\n",
        "\n",
        "Catatan:\n",
        "- Value variabel harus berupa nilai sesungguhnya (literal) seperti text (string),\n",
        "  bilangan bulat (integer), dan boolean (True atau False).\n",
        "\"\"\"\n",
        "\n",
        "# TODO: Silakan buat kode Anda di bawah ini."
      ],
      "metadata": {
        "id": "qpk_DJhrHpYd"
      },
      "execution_count": null,
      "outputs": []
    },
    {
      "cell_type": "markdown",
      "source": [
        "**Soal No. 3**"
      ],
      "metadata": {
        "id": "Xq583lKpI9M3"
      }
    },
    {
      "cell_type": "code",
      "source": [
        "\"\"\"\n",
        "TODO:\n",
        "Diberikan sebuah variabel berisi nilai list dengan nama \"nilai\".\n",
        "Berdasarkan list tersebut, cari hal-hal berikut ini:\n",
        "- Panjang list tersebut dan simpan dengan nama variabel \"panjang\".\n",
        "- Nilai maksimal list tersebut dan simpan dengan nama variabel \"maksimal\".\n",
        "- Nilai minimal list tersebut dan simpan dengan nama variabel \"minimal\".\n",
        "- Berapa banyak angka 605132 dalam list tersebut dan simpan dalam variabel bernama \"banyak\"\n",
        "\n",
        "\"\"\"\n",
        "\n",
        "# Jangan ubah kode ini\n",
        "nilai = [792564, 465231, 203748, 981037, 857219, 314092, 608345, 123907, 736890, 985026,\n",
        "179430, 450218, 680934, 543187, 978260, 283045, 617902, 405826, 820913, 731095,\n",
        "592403, 109237, 874956, 605132, 214978, 674519, 391047, 825160, 509317, 768490,\n",
        "950283, 307491, 487610, 532198, 605132, 160984, 609873, 245016, 879043, 734126,\n",
        "351809, 670594, 920873, 605132, 596410, 135890, 804512, 683420, 290753, 931560,\n",
        "175430, 950672, 378490, 284105, 746098, 503624, 605132, 167432, 974810, 519463,\n",
        "407835, 740326, 281709, 630921, 953284, 605132, 429731, 183607, 369012, 541380,\n",
        "605132, 217605, 496803, 827309, 153607, 605132, 720459, 381904, 594031, 810235,\n",
        "673925, 492157, 835096, 260481, 956024, 540329, 806295, 320158, 751903, 980465,\n",
        "235780, 857943, 605132, 125094, 620493, 913250\n",
        "]\n",
        "\n",
        "# TODO: Buat kode Anda di bawah ini"
      ],
      "metadata": {
        "id": "41tUtThxIwvt"
      },
      "execution_count": null,
      "outputs": []
    },
    {
      "cell_type": "markdown",
      "source": [
        "**Soal No. 4**"
      ],
      "metadata": {
        "id": "Aa4sNop39etf"
      }
    },
    {
      "cell_type": "code",
      "source": [
        "\"\"\"\n",
        "TODO:\n",
        "Buatlah sebuah variabel input bernama \"saran\" dan tuliskan kritik dan saran Anda\n",
        "selama mengukuti praktikum tengah semester ini\n",
        "\n",
        "\"\"\"\n",
        "# TODO: Silakan buat kode Anda di bawah ini."
      ],
      "metadata": {
        "id": "3E0BiUTb9YdX"
      },
      "execution_count": null,
      "outputs": []
    }
  ]
}